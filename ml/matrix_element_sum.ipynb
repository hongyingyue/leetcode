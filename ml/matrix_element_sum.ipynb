{
 "cells": [
  {
   "cell_type": "markdown",
   "id": "8fcfa014",
   "metadata": {},
   "source": [
    "## Problem: Matrix Element Sum\n",
    "\n",
    "Difficulty: Easy–Medium\n",
    "\n",
    "### Description:\n",
    "You are given a 2D matrix of integers. Your task is to calculate the sum of all elements in the matrix that satisfy a certain condition. \n",
    "\n",
    "For this problem, consider that an element contributes to the sum only if all elements above it in its column are non-zero.\n",
    "\n",
    "This is inspired by “haunted matrix” problems where elements are skipped if something above them is zero.\n",
    "\n",
    "Input:\n",
    "\n",
    "- matrix: a list of lists of integers (1 ≤ number of rows, columns ≤ 100, -10^3 ≤ matrix[i][j] ≤ 10^3)\n",
    "\n",
    "Output:\n",
    "\n",
    "- Return an integer representing the sum of the elements according to the condition.\n"
   ]
  },
  {
   "cell_type": "code",
   "execution_count": 6,
   "id": "f01910d7",
   "metadata": {},
   "outputs": [],
   "source": [
    "def matrix_element_sum(matrix: list[list[int]]) -> int:\n",
    "    m = len(matrix)\n",
    "    n = len(matrix[0])\n",
    "    ans = 0\n",
    "    for i in range(m):\n",
    "        for j in range(n):\n",
    "            if i > 0 and matrix[i-1][j] == 0:\n",
    "                # matrix[i][j] = 0\n",
    "                continue\n",
    "            ans += matrix[i][j]\n",
    "    return ans"
   ]
  },
  {
   "cell_type": "code",
   "execution_count": 7,
   "id": "b6f76867",
   "metadata": {},
   "outputs": [
    {
     "data": {
      "text/plain": [
       "9"
      ]
     },
     "execution_count": 7,
     "metadata": {},
     "output_type": "execute_result"
    }
   ],
   "source": [
    "# Example 1:\n",
    "matrix = [\n",
    "    [0, 1, 1, 2],\n",
    "    [0, 5, 0, 0],\n",
    "    [2, 0, 3, 3]\n",
    "]\n",
    "matrix_element_sum(matrix)  # Output: 9"
   ]
  },
  {
   "cell_type": "code",
   "execution_count": null,
   "id": "07fe0161",
   "metadata": {},
   "outputs": [],
   "source": []
  }
 ],
 "metadata": {
  "kernelspec": {
   "display_name": "Python 3",
   "language": "python",
   "name": "python3"
  },
  "language_info": {
   "codemirror_mode": {
    "name": "ipython",
    "version": 3
   },
   "file_extension": ".py",
   "mimetype": "text/x-python",
   "name": "python",
   "nbconvert_exporter": "python",
   "pygments_lexer": "ipython3",
   "version": "3.11.6"
  }
 },
 "nbformat": 4,
 "nbformat_minor": 5
}
