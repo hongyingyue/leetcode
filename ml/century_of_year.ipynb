{
 "cells": [
  {
   "cell_type": "code",
   "execution_count": 1,
   "id": "48d785f2",
   "metadata": {},
   "outputs": [
    {
     "name": "stdout",
     "output_type": "stream",
     "text": [
      "20\n",
      "17\n"
     ]
    }
   ],
   "source": [
    "# return the century of a year\n",
    "'''\n",
    "What to clarify first:\n",
    "1. Input: type, range\n",
    "2. Output: type\n",
    "\n",
    "'''\n",
    "import math\n",
    "def get_century(year: int) -> int:\n",
    "    # code here\n",
    "    # return (year - 1) // 100 + 1\n",
    "    return math.ceil(year / 100)\n",
    "\n",
    "print(get_century(1905))\n",
    "print(get_century(1700))"
   ]
  },
  {
   "cell_type": "code",
   "execution_count": 2,
   "id": "ce790103",
   "metadata": {},
   "outputs": [
    {
     "name": "stdout",
     "output_type": "stream",
     "text": [
      "Year 1: division -> 1, math -> 1\n",
      "Year 100: division -> 1, math -> 1\n",
      "Year 101: division -> 2, math -> 2\n",
      "Year 2000: division -> 20, math -> 20\n",
      "Year 2001: division -> 21, math -> 21\n",
      "Year 2024: division -> 21, math -> 21\n"
     ]
    }
   ],
   "source": [
    "import math\n",
    "\n",
    "def get_century_division(year: int) -> int:\n",
    "    return (year - 1) // 100 + 1\n",
    "\n",
    "def get_century_math(year: int) -> int:\n",
    "    return math.ceil(year / 100)\n",
    "\n",
    "# Test cases\n",
    "years = [1, 100, 101, 2000, 2001, 2024]\n",
    "\n",
    "for y in years:\n",
    "    print(f\"Year {y}: division -> {get_century_division(y)}, math -> {get_century_math(y)}\")\n"
   ]
  },
  {
   "cell_type": "code",
   "execution_count": null,
   "id": "348b190f",
   "metadata": {},
   "outputs": [],
   "source": []
  }
 ],
 "metadata": {
  "kernelspec": {
   "display_name": "Python 3",
   "language": "python",
   "name": "python3"
  },
  "language_info": {
   "codemirror_mode": {
    "name": "ipython",
    "version": 3
   },
   "file_extension": ".py",
   "mimetype": "text/x-python",
   "name": "python",
   "nbconvert_exporter": "python",
   "pygments_lexer": "ipython3",
   "version": "3.11.6"
  }
 },
 "nbformat": 4,
 "nbformat_minor": 5
}
