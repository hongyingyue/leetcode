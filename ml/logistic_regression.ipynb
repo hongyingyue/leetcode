{
 "cells": [
  {
   "cell_type": "markdown",
   "id": "bbd494be",
   "metadata": {},
   "source": [
    "## Binary Classification with Logistic Regression\n",
    "Easy\n",
    "Machine Learning\n",
    "\n",
    "Implement the prediction function for binary classification using Logistic Regression. Your task is to compute class probabilities using the sigmoid function and return binary predictions based on a threshold of 0.5.\n",
    "\n",
    "Example:\n",
    "Input:\n"
   ]
  },
  {
   "cell_type": "code",
   "execution_count": null,
   "id": "dfabbce4",
   "metadata": {},
   "outputs": [],
   "source": [
    "'''\n",
    "Clarify:\n",
    "- can I assume we have the input data of all numerical features?\n",
    "\n",
    "'''"
   ]
  },
  {
   "cell_type": "code",
   "execution_count": 11,
   "id": "8e4853ee",
   "metadata": {},
   "outputs": [],
   "source": [
    "import numpy as np\n",
    "\n",
    "def predict_logistic(X: np.ndarray, weights: np.ndarray, bias: float) -> np.ndarray:\n",
    "\t\"\"\"\n",
    "\tImplements binary classification prediction using Logistic Regression.\n",
    "\n",
    "\tArgs:\n",
    "\t\tX: Input feature matrix (shape: N x D)\n",
    "\t\tweights: Model weights (shape: D)\n",
    "\t\tbias: Model bias\n",
    "\n",
    "\tReturns:\n",
    "\t\tBinary predictions (0 or 1)\n",
    "\t\"\"\"\n",
    "\t# Your code here\n",
    "\tz = X @ weights + bias\n",
    "\tsigmoids = 1 / (1 + np.exp(-z))  # sigmoid activation\n",
    "\ty_pred = np.where(sigmoids >= 0.5, 1, 0)  # threshold at 0.5\n",
    "\treturn y_pred"
   ]
  },
  {
   "cell_type": "code",
   "execution_count": 12,
   "id": "671605f9",
   "metadata": {},
   "outputs": [
    {
     "data": {
      "text/plain": [
       "array([1, 1, 0, 0])"
      ]
     },
     "execution_count": 12,
     "metadata": {},
     "output_type": "execute_result"
    }
   ],
   "source": [
    "predict_logistic(np.array([[1, 1], [2, 2], [-1, -1], [-2, -2]]), np.array([1, 1]), 0)\n",
    "# Output: [1 1 0 0]"
   ]
  },
  {
   "cell_type": "code",
   "execution_count": 2,
   "id": "d7108785",
   "metadata": {},
   "outputs": [
    {
     "data": {
      "text/plain": [
       "array([ 2,  4, -2, -4])"
      ]
     },
     "execution_count": 2,
     "metadata": {},
     "output_type": "execute_result"
    }
   ],
   "source": [
    "import numpy as np\n",
    "\n",
    "X = np.array([[1, 1], [2, 2], [-1, -1], [-2, -2]])\n",
    "weights = np.array([1, 1])\n",
    "bias = 0\n",
    "z = X @ weights + bias\n",
    "z"
   ]
  },
  {
   "cell_type": "code",
   "execution_count": 3,
   "id": "389d6c39",
   "metadata": {},
   "outputs": [
    {
     "data": {
      "text/plain": [
       "(4,)"
      ]
     },
     "execution_count": 3,
     "metadata": {},
     "output_type": "execute_result"
    }
   ],
   "source": [
    "z.shape"
   ]
  },
  {
   "cell_type": "code",
   "execution_count": 5,
   "id": "38ff1530",
   "metadata": {},
   "outputs": [
    {
     "data": {
      "text/plain": [
       "(4,)"
      ]
     },
     "execution_count": 5,
     "metadata": {},
     "output_type": "execute_result"
    }
   ],
   "source": [
    "sigmoids = 1 / (1 + np.exp(-z))  # sigmoid activation\n",
    "sigmoids.shape"
   ]
  },
  {
   "cell_type": "code",
   "execution_count": 6,
   "id": "bb550bdb",
   "metadata": {},
   "outputs": [
    {
     "data": {
      "text/plain": [
       "array([1, 1, 0, 0])"
      ]
     },
     "execution_count": 6,
     "metadata": {},
     "output_type": "execute_result"
    }
   ],
   "source": [
    "y_pred = np.where(sigmoids >= 0.5, 1, 0)  # threshold at 0.5\n",
    "y_pred"
   ]
  },
  {
   "cell_type": "code",
   "execution_count": null,
   "id": "f9b49542",
   "metadata": {},
   "outputs": [],
   "source": []
  }
 ],
 "metadata": {
  "kernelspec": {
   "display_name": "Python 3",
   "language": "python",
   "name": "python3"
  },
  "language_info": {
   "codemirror_mode": {
    "name": "ipython",
    "version": 3
   },
   "file_extension": ".py",
   "mimetype": "text/x-python",
   "name": "python",
   "nbconvert_exporter": "python",
   "pygments_lexer": "ipython3",
   "version": "3.11.6"
  }
 },
 "nbformat": 4,
 "nbformat_minor": 5
}
