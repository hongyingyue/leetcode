{
 "cells": [
  {
   "cell_type": "markdown",
   "id": "cda0a22e",
   "metadata": {},
   "source": [
    "## Problem: Make Array Consecutive\n",
    "\n",
    "Difficulty: Easy–Medium\n",
    "\n",
    "### Description:\n",
    "You are given an unsorted array of integers. Your task is to find the minimum number of integers needed to make the array consecutive. \n",
    "\n",
    "A consecutive array is defined as an array where each integer is exactly 1 more than the previous integer.\n"
   ]
  },
  {
   "cell_type": "markdown",
   "id": "f4e174cb",
   "metadata": {},
   "source": [
    "Input:\n",
    "- nums: a list of integers (1 ≤ len(nums) ≤ 10^5, -10^9 ≤ nums[i] ≤ 10^9)\n",
    "\n",
    "Output:\n",
    "- Return an integer representing the minimum number of integers needed to make the array consecutive.\n"
   ]
  },
  {
   "cell_type": "code",
   "execution_count": null,
   "id": "67c0d30e",
   "metadata": {},
   "outputs": [],
   "source": [
    "def make_array_consecutive(nums: list[int]) -> int:\n",
    "    nums.sort()\n",
    "    print(nums)\n",
    "    ans = 0\n",
    "    for i in range(1, len(nums)):\n",
    "        ans += nums[i] - nums[i-1] - 1\n",
    "    return ans\n",
    "    # return max(nums) - min(nums) + 1 - len(set(nums))"
   ]
  },
  {
   "cell_type": "code",
   "execution_count": 6,
   "id": "5832afb5",
   "metadata": {},
   "outputs": [
    {
     "name": "stdout",
     "output_type": "stream",
     "text": [
      "[2, 3, 6, 8]\n"
     ]
    },
    {
     "data": {
      "text/plain": [
       "3"
      ]
     },
     "execution_count": 6,
     "metadata": {},
     "output_type": "execute_result"
    }
   ],
   "source": [
    "# Example 1:\n",
    "\n",
    "nums = [6, 2, 3, 8]\n",
    "make_array_consecutive(nums)  # Output: 3"
   ]
  },
  {
   "cell_type": "code",
   "execution_count": null,
   "id": "6aef3d3a",
   "metadata": {},
   "outputs": [],
   "source": []
  }
 ],
 "metadata": {
  "kernelspec": {
   "display_name": "Python 3",
   "language": "python",
   "name": "python3"
  },
  "language_info": {
   "codemirror_mode": {
    "name": "ipython",
    "version": 3
   },
   "file_extension": ".py",
   "mimetype": "text/x-python",
   "name": "python",
   "nbconvert_exporter": "python",
   "pygments_lexer": "ipython3",
   "version": "3.11.6"
  }
 },
 "nbformat": 4,
 "nbformat_minor": 5
}
