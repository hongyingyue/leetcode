{
 "cells": [
  {
   "cell_type": "markdown",
   "id": "7d88010c",
   "metadata": {},
   "source": [
    "## Problem: All Longest Strings\n",
    "\n",
    "Difficulty: Easy\n",
    "\n",
    "### Description:\n",
    "Given an array of strings, find all the strings with the maximum length. Return them in the same order as they appear in the input array.\n",
    "\n",
    "Input:\n",
    "\n",
    "- strings: a list of strings (1 ≤ len(strings) ≤ 10^4, 1 ≤ len(strings[i]) ≤ 100)\n",
    "\n",
    "Output:\n",
    "\n",
    "- Return a list of strings containing all the longest strings from the input.\n"
   ]
  },
  {
   "cell_type": "code",
   "execution_count": 5,
   "id": "8bb08363",
   "metadata": {},
   "outputs": [],
   "source": [
    "def all_longest_strings(strings: list[str]) -> list[str]:\n",
    "    lengths = [len(string) for string in strings]\n",
    "    max_length = max(lengths)\n",
    "    ans = []\n",
    "    for i, length in enumerate(lengths):\n",
    "        if length == max_length:\n",
    "            ans.append(strings[i]) \n",
    "    return ans"
   ]
  },
  {
   "cell_type": "code",
   "execution_count": null,
   "id": "72140413",
   "metadata": {},
   "outputs": [],
   "source": [
    "def all_longest_strings(strings: list[str]) -> list[str]:\n",
    "    max_length = len(max(strings, key = len)) ## !!!\n",
    "    ans = [s for s in strings if len(s) == max_length]\n",
    "    return ans"
   ]
  },
  {
   "cell_type": "code",
   "execution_count": 11,
   "id": "f60c6ec2",
   "metadata": {},
   "outputs": [
    {
     "data": {
      "text/plain": [
       "['aba', 'vcd', 'aba']"
      ]
     },
     "execution_count": 11,
     "metadata": {},
     "output_type": "execute_result"
    }
   ],
   "source": [
    "# Example 1:\n",
    "\n",
    "strings = [\"aba\", \"aa\", \"ad\", \"vcd\", \"aba\"]\n",
    "all_longest_strings(strings)  # Output: [\"aba\", \"vcd\", \"aba\"]"
   ]
  },
  {
   "cell_type": "code",
   "execution_count": 13,
   "id": "952475e5",
   "metadata": {},
   "outputs": [
    {
     "data": {
      "text/plain": [
       "'ad'"
      ]
     },
     "execution_count": 13,
     "metadata": {},
     "output_type": "execute_result"
    }
   ],
   "source": [
    "max(strings, key = lambda x: x[1])"
   ]
  },
  {
   "cell_type": "code",
   "execution_count": null,
   "id": "67935c73",
   "metadata": {},
   "outputs": [],
   "source": []
  }
 ],
 "metadata": {
  "kernelspec": {
   "display_name": "Python 3",
   "language": "python",
   "name": "python3"
  },
  "language_info": {
   "codemirror_mode": {
    "name": "ipython",
    "version": 3
   },
   "file_extension": ".py",
   "mimetype": "text/x-python",
   "name": "python",
   "nbconvert_exporter": "python",
   "pygments_lexer": "ipython3",
   "version": "3.11.6"
  }
 },
 "nbformat": 4,
 "nbformat_minor": 5
}
