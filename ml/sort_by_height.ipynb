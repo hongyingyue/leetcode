{
 "cells": [
  {
   "cell_type": "markdown",
   "id": "085d4a0a",
   "metadata": {},
   "source": [
    "## Problem: Sort by Height\n",
    "\n",
    "Difficulty: Easy\n",
    "\n",
    "## Description:\n",
    "Some people are standing in a line, and some of them are trees, represented by -1 in the array.\n",
    "\n",
    "Your task is to sort the people by height (ascending), without moving the trees.\n",
    "\n",
    "Input:\n",
    "\n",
    "- a: a list of integers, where -1 represents a tree and any positive integer represents a person’s height.\n",
    "\n",
    "- 1 ≤ len(a) ≤ 1000\n",
    "\n",
    "- Heights are positive integers.\n",
    "\n",
    "Output:\n",
    "\n",
    "- Return a list where the people are sorted in ascending order, but the trees remain at their original positions.\n",
    "\n"
   ]
  },
  {
   "cell_type": "code",
   "execution_count": null,
   "id": "b54e4cbc",
   "metadata": {},
   "outputs": [],
   "source": [
    "'''\n",
    "Clarify:\n",
    "- can I use a new list or I need to do it within the original list?\n",
    "'''"
   ]
  },
  {
   "cell_type": "code",
   "execution_count": 21,
   "id": "e3ad4e9d",
   "metadata": {},
   "outputs": [],
   "source": [
    "# my trial\n",
    "def sort_by_height(a: list[int]) -> list[int]:\n",
    "    sort_a = sorted(a)\n",
    "    p = 0\n",
    "    while sort_a[p] == -1:\n",
    "        p += 1\n",
    "    print(p)\n",
    "    for i in range(len(a)):\n",
    "        if a[i] > 0 and i < p:\n",
    "            sort_a[i], sort_a[p] = sort_a[p], sort_a[i]\n",
    "            p += 1\n",
    "        \n",
    "    return sort_a"
   ]
  },
  {
   "cell_type": "code",
   "execution_count": 22,
   "id": "2162396c",
   "metadata": {},
   "outputs": [],
   "source": [
    "# solution 1\n",
    "def sort_by_height(a: list[int]) -> list[int]:\n",
    "    holder = sorted([x for x in a if x != -1])\n",
    "    print(holder)\n",
    "    idx = 0\n",
    "    for i in range(len(a)):\n",
    "        if a[i] != -1:\n",
    "            a[i] = holder[idx]\n",
    "            idx += 1\n",
    "    return a"
   ]
  },
  {
   "cell_type": "code",
   "execution_count": null,
   "id": "bd32634d",
   "metadata": {},
   "outputs": [],
   "source": [
    "# solution 2: no touch of a\n",
    "def sort_by_height(a: list[int]) -> list[int]:\n",
    "    people = iter(sorted([x for x in a if x != -1]))\n",
    "    return [next(people) if x != -1 else -1 for x in a]\n"
   ]
  },
  {
   "cell_type": "code",
   "execution_count": 24,
   "id": "fd81ea23",
   "metadata": {},
   "outputs": [
    {
     "data": {
      "text/plain": [
       "[-1, 150, 160, 170, -1, -1, 180, 190]"
      ]
     },
     "execution_count": 24,
     "metadata": {},
     "output_type": "execute_result"
    }
   ],
   "source": [
    "# Example 1:\n",
    "\n",
    "a = [-1, 150, 190, 170, -1, -1, 160, 180]\n",
    "sort_by_height(a)  \n",
    "# Output: [-1, 150, 160, 170, -1, -1, 180, 190]"
   ]
  },
  {
   "cell_type": "code",
   "execution_count": null,
   "id": "fc4aa727",
   "metadata": {},
   "outputs": [],
   "source": []
  }
 ],
 "metadata": {
  "kernelspec": {
   "display_name": "Python 3",
   "language": "python",
   "name": "python3"
  },
  "language_info": {
   "codemirror_mode": {
    "name": "ipython",
    "version": 3
   },
   "file_extension": ".py",
   "mimetype": "text/x-python",
   "name": "python",
   "nbconvert_exporter": "python",
   "pygments_lexer": "ipython3",
   "version": "3.11.6"
  }
 },
 "nbformat": 4,
 "nbformat_minor": 5
}
