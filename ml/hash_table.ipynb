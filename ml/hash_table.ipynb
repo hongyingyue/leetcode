{
 "cells": [
  {
   "cell_type": "markdown",
   "id": "38c4db4a",
   "metadata": {},
   "source": [
    "## Question: Implement a HashTable Class\n",
    "\n",
    "Design and implement a HashTable class from scratch (without using Python’s built-in dict).\n",
    "\n",
    "Write a hash table class that uses **separate chaining** and implements the following methods: \n",
    "- lookup \n",
    "- insert \n",
    "- delete\n",
    "\n",
    "### Initialization\n",
    "\n",
    "The hash table should be initialized with a given capacity.\n",
    "\n",
    "Use an array (list) of buckets, where each bucket can handle collisions using chaining (linked list or list of key-value pairs).\n",
    "\n",
    "### Insert / Put (key, value)\n",
    "\n",
    "Insert a key-value pair into the hash table.\n",
    "\n",
    "If the key already exists, update its value.\n",
    "\n",
    "### Lookup (key)\n",
    "\n",
    "Retrieve the value associated with a given key.\n",
    "\n",
    "Return None if the key does not exist.\n",
    "\n",
    "### Delete (key)\n",
    "\n",
    "Remove the key-value pair from the hash table.\n",
    "\n",
    "If the key does not exist, do nothing.\n",
    "\n",
    "### (Optional Bonus)\n",
    "\n",
    "Implement automatic resizing when the load factor exceeds a threshold (e.g., 0.7)."
   ]
  },
  {
   "cell_type": "markdown",
   "id": "705986da",
   "metadata": {},
   "source": [
    "What to clarity first:\n",
    "\n",
    "1.\n",
    "2. What to return / print for each function?"
   ]
  },
  {
   "cell_type": "code",
   "execution_count": 51,
   "id": "75d553b7",
   "metadata": {},
   "outputs": [],
   "source": [
    "class HashTable():\n",
    "    def __init__(self, size: int) -> None:\n",
    "        self.size = size\n",
    "        self.buckets = [[] for i in range(size)]\n",
    "    \n",
    "    def insert(self, key, value):\n",
    "        index = hash(key) % self.size\n",
    "        bucket = self.buckets[index] # can be isolated\n",
    "        for i, (k, v) in enumerate(bucket):\n",
    "            if k == key:\n",
    "                bucket[i] = (key, value)\n",
    "                return\n",
    "        bucket.append((key, value))\n",
    "    \n",
    "    def lookup(self, key):\n",
    "        index = hash(key) % self.size\n",
    "        for k, v in self.buckets[index]:\n",
    "            if k == key:\n",
    "                return v\n",
    "        # use 'return'\n",
    "        return None  # not found\n",
    "      \n",
    "    def delete(self, key):\n",
    "        index = hash(key) % self.size\n",
    "        bucket = self.buckets[index] # can be isolated\n",
    "        for i, (k, v) in enumerate(bucket):\n",
    "            if k == key:\n",
    "                del bucket[i]\n",
    "                return True  # successfully deleted\n",
    "        return False  # not found\n",
    "    \n",
    "    def __repr__(self) -> str:\n",
    "        return str(self.buckets)"
   ]
  },
  {
   "cell_type": "code",
   "execution_count": 73,
   "id": "75349f17",
   "metadata": {},
   "outputs": [
    {
     "name": "stdout",
     "output_type": "stream",
     "text": [
      "[[], [('world', 4)], [('hello', 8)]]\n",
      "8\n",
      "None\n",
      "True\n",
      "False\n",
      "[[], [('world', 4)], []]\n"
     ]
    }
   ],
   "source": [
    "# Testing\n",
    "h = HashTable(3)\n",
    "h.insert('hello', 5)\n",
    "h.insert('hello', 8)\n",
    "h.insert('world', 4)\n",
    "print(h)\n",
    "\n",
    "print(h.lookup('hello'))\n",
    "print(h.lookup('hi'))\n",
    "\n",
    "print(h.delete('hello'))\n",
    "print(h.delete('good'))\n",
    "print(h)\n",
    "\n",
    "# Edge cases\n"
   ]
  },
  {
   "cell_type": "code",
   "execution_count": 69,
   "id": "df7cb02b",
   "metadata": {},
   "outputs": [
    {
     "name": "stdout",
     "output_type": "stream",
     "text": [
      "[[], [], [], [], []]\n",
      "[[], [], [('apple', 100)], [('banana', 200)], []]\n",
      "100\n",
      "None\n",
      "True\n",
      "[[], [], [('apple', 100)], [], []]\n",
      "False\n",
      "[[], [], [('apple', 100)], [], []]\n"
     ]
    }
   ],
   "source": [
    "ht = HashTable(5)\n",
    "print(ht)\n",
    "\n",
    "ht.insert(\"apple\", 100)\n",
    "ht.insert(\"banana\", 200)\n",
    "print(ht)\n",
    "\n",
    "print(ht.lookup(\"apple\"))    # 100\n",
    "print(ht.lookup(\"orange\"))   # None\n",
    "\n",
    "print(ht.delete(\"banana\"))          # returns True\n",
    "print(ht)\n",
    "\n",
    "print(ht.delete(\"orange\"))       # returns False\n",
    "print(ht)"
   ]
  },
  {
   "cell_type": "code",
   "execution_count": null,
   "id": "27a122e4",
   "metadata": {},
   "outputs": [],
   "source": []
  }
 ],
 "metadata": {
  "kernelspec": {
   "display_name": "Python 3",
   "language": "python",
   "name": "python3"
  },
  "language_info": {
   "codemirror_mode": {
    "name": "ipython",
    "version": 3
   },
   "file_extension": ".py",
   "mimetype": "text/x-python",
   "name": "python",
   "nbconvert_exporter": "python",
   "pygments_lexer": "ipython3",
   "version": "3.11.6"
  }
 },
 "nbformat": 4,
 "nbformat_minor": 5
}
