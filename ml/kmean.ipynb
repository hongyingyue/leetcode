{
 "cells": [
  {
   "cell_type": "markdown",
   "id": "fe44e6f3",
   "metadata": {},
   "source": [
    "## Question\n",
    "Implement K-Means clustering into K clusters based on which cluster's centroid each data point is closest to.\n",
    "\n",
    "---"
   ]
  },
  {
   "cell_type": "markdown",
   "id": "b28db04d",
   "metadata": {},
   "source": [
    "**Clarifications**\n",
    "\n",
    "Assumptions:\n",
    "- distance: Euclidean distance\n",
    "- - iteration: predefined by the user\n",
    "- X: feature matrix of the data input\n",
    "\n",
    "- K: determined in advance\n",
    "- clusters: named 0 to K-1\n"
   ]
  },
  {
   "cell_type": "code",
   "execution_count": null,
   "id": "40481f85",
   "metadata": {},
   "outputs": [],
   "source": [
    "'''\n",
    "centroid initialization:\n",
    "- randomly select k data points\n",
    "\n",
    "for each iteration:\n",
    "1. for each point: \n",
    "    - calculate the distance between each centroid\n",
    "    - find the centroid with the smallest distance\n",
    "    - label the point to the centroid\n",
    "2. update centroids' coordinates:\n",
    "    - average all the data points of their scope\n",
    "    - if no data point included -> no change\n",
    "\n",
    "'''"
   ]
  },
  {
   "cell_type": "code",
   "execution_count": 1,
   "id": "f73eca5a",
   "metadata": {},
   "outputs": [],
   "source": [
    "import numpy as np"
   ]
  },
  {
   "cell_type": "code",
   "execution_count": 49,
   "id": "155ced40",
   "metadata": {},
   "outputs": [],
   "source": [
    "class KMeans:\n",
    "    def __init__(self, k: int, n_iter: int = 100):\n",
    "        self.n_clusters = k\n",
    "        self.n_iterations = n_iter\n",
    "        self.centroids = None\n",
    "        self.labels_ = None\n",
    "    \n",
    "    def distance(self, x: np.ndarray, y: np.ndarray) -> float:\n",
    "        return np.sum((x - y) ** 2)\n",
    "    \n",
    "    def fit(self, X: np.ndarray) -> None:\n",
    "        n_samples, n_features = X.shape\n",
    "        \n",
    "        # initialize centroids\n",
    "        centroid_idx = np.random.choice(n_samples, self.n_clusters, replace=False)\n",
    "        self.centroids = X[centroid_idx]\n",
    "        self.labels_ = np.array([-1] * n_samples)\n",
    "        \n",
    "        for _ in range(self.n_iterations):\n",
    "            # # cluster data points\n",
    "            # for i in range(n_samples):\n",
    "            #     distances = [self.distance(X[i], centroid) for centroid in self.centroids]\n",
    "            #     self.labels_[i] = np.argmin(distances)\n",
    "            # assign clusters\n",
    "            labels = np.array([\n",
    "                np.argmin([self.distance(x, centroid) for centroid in self.centroids])\n",
    "                for x in X\n",
    "            ])\n",
    "            \n",
    "            # # update centroids\n",
    "            # new_centroids = np.array([\n",
    "            #     np.mean(X[self.labels_ == i], axis = 0)\n",
    "            #     if np.any(self.labels_ == i) else self.centroids[i]\n",
    "            #     for i in range(self.n_clusters)\n",
    "            # ])\n",
    "            # update centroids\n",
    "            new_centroids = np.array([\n",
    "                X[labels == i].mean(axis=0) if np.any(labels == i) else self.centroids[i]\n",
    "                for i in range(self.n_clusters)\n",
    "            ])\n",
    "            \n",
    "            # check for convergence\n",
    "            if np.allclose(new_centroids, self.centroids):\n",
    "                break\n",
    "            self.centroids = new_centroids\n",
    "            self.labels_ = labels\n",
    "    \n",
    "    def predict(self, X_new: np.ndarray) -> np.ndarray:\n",
    "        # labels = []\n",
    "        # for x_i in X_new:\n",
    "        #     distances = [self.distance(x_i, centroid) for centroid in self.centroids]\n",
    "        #     labels.append(np.argmin(distances))\n",
    "        # return np.array(labels)\n",
    "        return np.array([\n",
    "            np.argmin([self.distance(x_i, centroid) for centroid in self.centroids])\n",
    "            for x_i in X_new\n",
    "        ])"
   ]
  },
  {
   "cell_type": "code",
   "execution_count": 50,
   "id": "ab994c77",
   "metadata": {},
   "outputs": [
    {
     "name": "stdout",
     "output_type": "stream",
     "text": [
      "Centroids:\n",
      " [[-0.06548217  5.16748621]\n",
      " [-0.13916157  0.12684626]\n",
      " [ 4.7004148   4.68490916]]\n",
      "Labels: [1 1 1 1 1 1 1 1 1 1]\n"
     ]
    }
   ],
   "source": [
    "# Testing\n",
    "# Generate a toy dataset\n",
    "X = np.vstack([\n",
    "    np.random.randn(50, 2) + np.array([0, 0]),\n",
    "    np.random.randn(50, 2) + np.array([5, 5]),\n",
    "    np.random.randn(50, 2) + np.array([0, 5])\n",
    "])\n",
    "\n",
    "# Run KMeans\n",
    "kmeans = KMeans(k=3)\n",
    "kmeans.fit(X)\n",
    "\n",
    "print(\"Centroids:\\n\", kmeans.centroids)\n",
    "print(\"Labels:\", kmeans.labels_[:10])  # show first 10 labels"
   ]
  },
  {
   "cell_type": "code",
   "execution_count": 51,
   "id": "1400ddf2",
   "metadata": {},
   "outputs": [
    {
     "data": {
      "text/plain": [
       "array([1, 1, 1, 1, 1, 1, 1, 1, 1, 1, 1, 1, 1, 1, 1, 1, 1, 1, 1, 1, 1, 1,\n",
       "       1, 1, 1, 1, 1, 1, 1, 1, 1, 1, 1, 1, 1, 1, 1, 1, 1, 1, 1, 1, 1, 1,\n",
       "       1, 1, 1, 1, 1, 1, 2, 2, 2, 2, 2, 2, 2, 2, 2, 2, 2, 2, 2, 2, 2, 2,\n",
       "       2, 2, 2, 2, 2, 2, 2, 2, 2, 2, 2, 2, 2, 2, 2, 2, 2, 2, 2, 2, 2, 2,\n",
       "       2, 2, 2, 2, 2, 2, 2, 2, 2, 2, 2, 2, 0, 0, 0, 0, 0, 0, 2, 0, 0, 0,\n",
       "       0, 0, 0, 2, 0, 0, 0, 0, 0, 0, 0, 0, 0, 0, 0, 0, 0, 0, 0, 0, 0, 0,\n",
       "       0, 0, 0, 0, 0, 0, 0, 0, 0, 0, 0, 0, 0, 0, 0, 0, 0, 0])"
      ]
     },
     "execution_count": 51,
     "metadata": {},
     "output_type": "execute_result"
    }
   ],
   "source": [
    "# kmeans.labels_.size\n",
    "kmeans.labels_"
   ]
  },
  {
   "cell_type": "code",
   "execution_count": 52,
   "id": "78cbdd49",
   "metadata": {},
   "outputs": [
    {
     "name": "stdout",
     "output_type": "stream",
     "text": [
      "Predicted cluster for new samples: [1 2 0 1]\n"
     ]
    }
   ],
   "source": [
    "# New points we want to cluster\n",
    "X_new = np.array([\n",
    "    [0, 1],   # near cluster around (0,0)\n",
    "    [4.5, 4.8], # near cluster around (5,5)\n",
    "    [-1, 4.5],  # near cluster around (0,5)\n",
    "    [2, 2],   # in-between (could go to 0,0 or 5,5)\n",
    "])\n",
    "\n",
    "labels_new = kmeans.predict(X_new)\n",
    "print(\"Predicted cluster for new samples:\", labels_new)\n"
   ]
  },
  {
   "cell_type": "code",
   "execution_count": null,
   "id": "71735650",
   "metadata": {},
   "outputs": [],
   "source": []
  }
 ],
 "metadata": {
  "kernelspec": {
   "display_name": "Python 3",
   "language": "python",
   "name": "python3"
  },
  "language_info": {
   "codemirror_mode": {
    "name": "ipython",
    "version": 3
   },
   "file_extension": ".py",
   "mimetype": "text/x-python",
   "name": "python",
   "nbconvert_exporter": "python",
   "pygments_lexer": "ipython3",
   "version": "3.11.6"
  }
 },
 "nbformat": 4,
 "nbformat_minor": 5
}
