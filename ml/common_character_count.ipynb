{
 "cells": [
  {
   "cell_type": "markdown",
   "id": "82d375c0",
   "metadata": {},
   "source": [
    "## Problem: Common Character Count\n",
    "\n",
    "Difficulty: Easy\n",
    "\n",
    "### Description:\n",
    "Given two strings, find the number of characters that appear in both strings. Each character can only be counted as many times as it appears in both strings.\n",
    "\n",
    "\n",
    "Input:\n",
    "\n",
    "- s1, s2: strings containing lowercase English letters (1 ≤ len(s1), len(s2) ≤ 10^4)\n",
    "\n",
    "Output:\n",
    "\n",
    "- Return an integer representing the number of common characters.\n",
    "\n"
   ]
  },
  {
   "cell_type": "code",
   "execution_count": null,
   "id": "66393ac2",
   "metadata": {},
   "outputs": [],
   "source": [
    "'''\n",
    "Clarify:\n",
    "- s1 and s2 only contain lowercase letters?\n",
    "\n",
    "'''"
   ]
  },
  {
   "cell_type": "code",
   "execution_count": 6,
   "id": "873c1091",
   "metadata": {},
   "outputs": [],
   "source": [
    "def common_character_count(s1: str, s2: str) -> int:\n",
    "    # count the number of each letters in s1 and s2\n",
    "    # use list as a counter\n",
    "    cnt1 = [0] * 26\n",
    "    cnt2 = [0] * 26\n",
    "    for s in s1:\n",
    "        pos = ord(s) - ord('a')\n",
    "        cnt1[pos] += 1\n",
    "    for s in s2:\n",
    "        pos = ord(s) - ord('a')\n",
    "        cnt2[pos] += 1\n",
    "        \n",
    "    # get the minimum of each letter and sum them up\n",
    "    ans = 0\n",
    "    for i in range(26):\n",
    "        ans += min(cnt1[i], cnt2[i])\n",
    "        \n",
    "    return ans"
   ]
  },
  {
   "cell_type": "code",
   "execution_count": 7,
   "id": "56146a65",
   "metadata": {},
   "outputs": [
    {
     "data": {
      "text/plain": [
       "3"
      ]
     },
     "execution_count": 7,
     "metadata": {},
     "output_type": "execute_result"
    }
   ],
   "source": [
    "# Example 1:\n",
    "\n",
    "s1 = \"aabcc\"\n",
    "s2 = \"adcaa\"\n",
    "common_character_count(s1, s2)  # Output: 3"
   ]
  },
  {
   "cell_type": "code",
   "execution_count": null,
   "id": "7a031fba",
   "metadata": {},
   "outputs": [],
   "source": []
  }
 ],
 "metadata": {
  "kernelspec": {
   "display_name": "Python 3",
   "language": "python",
   "name": "python3"
  },
  "language_info": {
   "codemirror_mode": {
    "name": "ipython",
    "version": 3
   },
   "file_extension": ".py",
   "mimetype": "text/x-python",
   "name": "python",
   "nbconvert_exporter": "python",
   "pygments_lexer": "ipython3",
   "version": "3.11.6"
  }
 },
 "nbformat": 4,
 "nbformat_minor": 5
}
