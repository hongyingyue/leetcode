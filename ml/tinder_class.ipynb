{
 "cells": [
  {
   "cell_type": "markdown",
   "id": "0d57db48",
   "metadata": {},
   "source": [
    "## Problem: Tinder Explore\n",
    "\n",
    "Design and implement a TinderExplore class that supports the following operations:\n",
    "\n",
    "#### 1. like(swiperId: int, swipeeId: int) -> None\n",
    "\n",
    "Records that user swiperId likes user swipeeId.\n",
    "\n",
    "A user can like multiple users, and a user can be liked by multiple users.\n",
    "\n",
    "Repeated likes should only be stored once.\n",
    "\n",
    "#### 2. postTinderPost(userId: int, content: str, timestamp: int) -> None\n",
    "\n",
    "Records that user userId published a new post with content at the given timestamp.\n",
    "\n",
    "timestamp is a strictly increasing integer, meaning later posts always have larger timestamps.\n",
    "\n",
    "#### 3. getExploreTimeline(userId: int) -> list[str]\n",
    "\n",
    "Returns the most recent posts from all users that userId has liked.\n",
    "\n",
    "Results should be sorted by timestamp in descending order (newest first).\n",
    "\n",
    "At most 10 posts should be returned."
   ]
  },
  {
   "cell_type": "code",
   "execution_count": 29,
   "id": "74e6b8ad",
   "metadata": {},
   "outputs": [],
   "source": [
    "import heapq\n",
    "\n",
    "class TinderExplore:\n",
    "    def __init__(self):\n",
    "        self.likes = {} # key:value - user: user liked\n",
    "        self.posts = {} # key:value - user: (timestamp, content)\n",
    "        \n",
    "    def like(self, swiperId: int, swipeeId: int) -> None:\n",
    "        # if swiperId not in self.likes:\n",
    "        #     self.likes[swiperId] = [swipeeId]\n",
    "        # else:\n",
    "        #     if swipeeId not in self.likes[swiperId]:\n",
    "        #         self.likes[swiperId].append(swipeeId)\n",
    "        if swiperId not in self.likes:\n",
    "            self.likes[swiperId] = set()\n",
    "        self.likes[swiperId].add(swipeeId)\n",
    "    \n",
    "    def postTinderPost(self, userId: int, content: str, timestamp: int) -> None:\n",
    "        if userId not in self.posts:\n",
    "            self.posts[userId] = [(timestamp, content)]\n",
    "        else:\n",
    "            self.posts[userId].append((timestamp, content))\n",
    "    \n",
    "    def getExploreTimeline(self, userId: int) -> list[str]:\n",
    "        if userId not in self.likes:\n",
    "            return []\n",
    "        # posts = []\n",
    "        # for user in self.likes[userId]:\n",
    "        #     if user in self.posts:\n",
    "        #         posts += self.posts[user]\n",
    "        # posts.sort(key=lambda x: x[0], reverse=True)\n",
    "        # return_posts = [c for t, c in posts][:10]\n",
    "        # return return_posts\n",
    "        liked_users = self.likes[userId]\n",
    "        candidate_posts = []\n",
    "        for u in liked_users:\n",
    "            if u in self.posts:\n",
    "                candidate_posts.extend(self.posts[u])\n",
    "        \n",
    "        top_posts = heapq.nlargest(10, candidate_posts, key=lambda x: x[0])\n",
    "        \n",
    "        return [content for _, content in sorted(top_posts, key=lambda x: x[0], reverse=True)]\n"
   ]
  },
  {
   "cell_type": "code",
   "execution_count": 30,
   "id": "434e3590",
   "metadata": {},
   "outputs": [
    {
     "name": "stdout",
     "output_type": "stream",
     "text": [
      "['postD', 'postC', 'postB', 'postA']\n"
     ]
    }
   ],
   "source": [
    "tinder = TinderExplore()\n",
    "\n",
    "tinder.like(1, 2)\n",
    "tinder.like(1, 3)\n",
    "\n",
    "tinder.postTinderPost(2, \"postA\", 5)\n",
    "tinder.postTinderPost(3, \"postB\", 6)\n",
    "tinder.postTinderPost(2, \"postC\", 7)\n",
    "tinder.postTinderPost(3, \"postD\", 8)\n",
    "\n",
    "print(tinder.getExploreTimeline(1))\n",
    "# Output: [\"postD\", \"postC\", \"postB\", \"postA\"]\n"
   ]
  },
  {
   "cell_type": "code",
   "execution_count": 31,
   "id": "75b0f279",
   "metadata": {},
   "outputs": [
    {
     "name": "stdout",
     "output_type": "stream",
     "text": [
      "{1: {2, 3}}\n",
      "{2: [(5, 'postA'), (7, 'postC')], 3: [(6, 'postB'), (8, 'postD')]}\n"
     ]
    }
   ],
   "source": [
    "print(tinder.likes)\n",
    "print(tinder.posts)"
   ]
  },
  {
   "cell_type": "code",
   "execution_count": 32,
   "id": "cdc12305",
   "metadata": {},
   "outputs": [
    {
     "name": "stdout",
     "output_type": "stream",
     "text": [
      "Timeline for User 1: ['post4_D', 'post4_C', 'post3_C', 'post2_C', 'post4_B', 'post3_B', 'post2_B', 'post4_A', 'post3_A', 'post2_A']\n",
      "Timeline for User 2: ['post5_B', 'post5_A', 'post3_C', 'post3_B', 'post3_A']\n",
      "Timeline for User 3: ['post4_D', 'post4_C', 'post4_B', 'post4_A']\n",
      "Timeline for User 4: []\n",
      "Timeline for User 5: ['post3_C', 'post2_C', 'post3_B', 'post2_B', 'post3_A', 'post2_A']\n"
     ]
    }
   ],
   "source": [
    "tinder = TinderExplore()\n",
    "\n",
    "# User 1 likes users 2, 3, 4\n",
    "tinder.like(1, 2)\n",
    "tinder.like(1, 3)\n",
    "tinder.like(1, 4)\n",
    "\n",
    "# User 2 likes users 3 and 5\n",
    "tinder.like(2, 3)\n",
    "tinder.like(2, 5)\n",
    "\n",
    "# User 3 likes user 4\n",
    "tinder.like(3, 4)\n",
    "\n",
    "# User 4 likes nobody (empty timeline)\n",
    "# User 5 likes users 2 and 3\n",
    "tinder.like(5, 2)\n",
    "tinder.like(5, 3)\n",
    "\n",
    "# Posts from user 2\n",
    "tinder.postTinderPost(2, \"post2_A\", 1)\n",
    "tinder.postTinderPost(2, \"post2_B\", 5)\n",
    "tinder.postTinderPost(2, \"post2_C\", 12)\n",
    "\n",
    "# Posts from user 3\n",
    "tinder.postTinderPost(3, \"post3_A\", 2)\n",
    "tinder.postTinderPost(3, \"post3_B\", 7)\n",
    "tinder.postTinderPost(3, \"post3_C\", 13)\n",
    "\n",
    "# Posts from user 4\n",
    "tinder.postTinderPost(4, \"post4_A\", 3)\n",
    "tinder.postTinderPost(4, \"post4_B\", 8)\n",
    "tinder.postTinderPost(4, \"post4_C\", 14)\n",
    "tinder.postTinderPost(4, \"post4_D\", 15)\n",
    "\n",
    "# Posts from user 5\n",
    "tinder.postTinderPost(5, \"post5_A\", 20)\n",
    "tinder.postTinderPost(5, \"post5_B\", 21)\n",
    "\n",
    "# Queries\n",
    "print(\"Timeline for User 1:\", tinder.getExploreTimeline(1))\n",
    "print(\"Timeline for User 2:\", tinder.getExploreTimeline(2))\n",
    "print(\"Timeline for User 3:\", tinder.getExploreTimeline(3))\n",
    "print(\"Timeline for User 4:\", tinder.getExploreTimeline(4))\n",
    "print(\"Timeline for User 5:\", tinder.getExploreTimeline(5))\n"
   ]
  },
  {
   "cell_type": "code",
   "execution_count": null,
   "id": "772e4916",
   "metadata": {},
   "outputs": [],
   "source": []
  }
 ],
 "metadata": {
  "kernelspec": {
   "display_name": "Python 3",
   "language": "python",
   "name": "python3"
  },
  "language_info": {
   "codemirror_mode": {
    "name": "ipython",
    "version": 3
   },
   "file_extension": ".py",
   "mimetype": "text/x-python",
   "name": "python",
   "nbconvert_exporter": "python",
   "pygments_lexer": "ipython3",
   "version": "3.11.6"
  }
 },
 "nbformat": 4,
 "nbformat_minor": 5
}
