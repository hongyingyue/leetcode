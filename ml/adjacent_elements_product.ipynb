{
 "cells": [
  {
   "cell_type": "markdown",
   "id": "487a1da8",
   "metadata": {},
   "source": [
    "## Coding Question: Maximum Product of Adjacent Elements\n",
    "\n",
    "Problem:\n",
    "\n",
    "Given a list of integers, write a function that finds the maximum product of two adjacent elements in the list."
   ]
  },
  {
   "cell_type": "code",
   "execution_count": 5,
   "id": "1421e323",
   "metadata": {},
   "outputs": [],
   "source": [
    "'''\n",
    "Clarify:\n",
    "\n",
    "Input - nums: \n",
    "- include negative intergers?\n",
    "- range of the integers: big numbers can have integer overflow\n",
    "\n",
    "Output:\n",
    "- return what?\n",
    "- invalid input handling: ignore or return -1\n",
    "'''\n",
    "\n",
    "def adjacent_elements_product(nums: list[int]) -> int:\n",
    "    n = len(nums)\n",
    "    if n < 2:\n",
    "        return -1\n",
    "    ans = float('-inf')\n",
    "    pos = 0\n",
    "    for i in range(n-1):\n",
    "        prod = nums[i] * nums[i + 1]\n",
    "        if prod > ans:\n",
    "            ans = prod\n",
    "            pos = i\n",
    "    return ans, (nums[pos], nums[pos + 1])"
   ]
  },
  {
   "cell_type": "code",
   "execution_count": 6,
   "id": "24c11a65",
   "metadata": {},
   "outputs": [
    {
     "name": "stdout",
     "output_type": "stream",
     "text": [
      "(21, (7, 3))\n"
     ]
    }
   ],
   "source": [
    "nums = [3, 6, -2, -5, 7, 3]\n",
    "print(adjacent_elements_product(nums))"
   ]
  },
  {
   "cell_type": "code",
   "execution_count": null,
   "id": "b883c224",
   "metadata": {},
   "outputs": [],
   "source": []
  }
 ],
 "metadata": {
  "kernelspec": {
   "display_name": "Python 3",
   "language": "python",
   "name": "python3"
  },
  "language_info": {
   "codemirror_mode": {
    "name": "ipython",
    "version": 3
   },
   "file_extension": ".py",
   "mimetype": "text/x-python",
   "name": "python",
   "nbconvert_exporter": "python",
   "pygments_lexer": "ipython3",
   "version": "3.11.6"
  }
 },
 "nbformat": 4,
 "nbformat_minor": 5
}
