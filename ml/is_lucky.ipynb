{
 "cells": [
  {
   "cell_type": "markdown",
   "id": "717302dd",
   "metadata": {},
   "source": [
    "## Problem: Is Lucky\n",
    "\n",
    "Difficulty: Easy\n",
    "\n",
    "### Description:\n",
    "A ticket number is considered lucky if the sum of the first half of its digits is equal to the sum of the second half.\n",
    "\n",
    "Write a function that checks whether a given ticket number is lucky.\n",
    "\n",
    "Function Signature:\n",
    "\n",
    "\n",
    "Input:\n",
    "\n",
    "- n: a positive integer with an even number of digits (2 ≤ number of digits ≤ 10^6)\n",
    "\n",
    "Output:\n",
    "\n",
    "- Return True if the ticket is lucky, otherwise return False.\n",
    "\n"
   ]
  },
  {
   "cell_type": "code",
   "execution_count": null,
   "id": "008029d1",
   "metadata": {},
   "outputs": [],
   "source": [
    "'''\n",
    "Clarify:\n",
    "- can I convert the number to string?\n",
    "'''"
   ]
  },
  {
   "cell_type": "code",
   "execution_count": 17,
   "id": "9d6d8389",
   "metadata": {},
   "outputs": [],
   "source": [
    "def is_lucky(n: int) -> bool:\n",
    "    digits = [int(val) for val in list(str(n))]\n",
    "    half_length = len(digits) // 2\n",
    "    if sum(digits[:half_length]) == sum(digits[-half_length:]):\n",
    "        return True\n",
    "    else:\n",
    "        return False"
   ]
  },
  {
   "cell_type": "code",
   "execution_count": 18,
   "id": "82af9d0e",
   "metadata": {},
   "outputs": [
    {
     "data": {
      "text/plain": [
       "True"
      ]
     },
     "execution_count": 18,
     "metadata": {},
     "output_type": "execute_result"
    }
   ],
   "source": [
    "# Example 1:\n",
    "\n",
    "n = 1230\n",
    "is_lucky(n)  # Output: True"
   ]
  },
  {
   "cell_type": "code",
   "execution_count": null,
   "id": "bb2dd136",
   "metadata": {},
   "outputs": [],
   "source": []
  }
 ],
 "metadata": {
  "kernelspec": {
   "display_name": "Python 3",
   "language": "python",
   "name": "python3"
  },
  "language_info": {
   "codemirror_mode": {
    "name": "ipython",
    "version": 3
   },
   "file_extension": ".py",
   "mimetype": "text/x-python",
   "name": "python",
   "nbconvert_exporter": "python",
   "pygments_lexer": "ipython3",
   "version": "3.11.6"
  }
 },
 "nbformat": 4,
 "nbformat_minor": 5
}
