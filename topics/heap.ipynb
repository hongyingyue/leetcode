{
 "cells": [
  {
   "cell_type": "code",
   "execution_count": 14,
   "id": "87d388f3",
   "metadata": {},
   "outputs": [],
   "source": [
    "import heapq\n",
    "\n",
    "arr = [9,1,3,2,4,5,8,7,6]\n",
    "heapq.heapify(arr)"
   ]
  },
  {
   "cell_type": "code",
   "execution_count": 15,
   "id": "89e6f717",
   "metadata": {},
   "outputs": [
    {
     "data": {
      "text/plain": [
       "1"
      ]
     },
     "execution_count": 15,
     "metadata": {},
     "output_type": "execute_result"
    }
   ],
   "source": [
    "heapq.heappop(arr)"
   ]
  },
  {
   "cell_type": "code",
   "execution_count": 17,
   "id": "fd74fc9f",
   "metadata": {},
   "outputs": [
    {
     "data": {
      "text/plain": [
       "2"
      ]
     },
     "execution_count": 17,
     "metadata": {},
     "output_type": "execute_result"
    }
   ],
   "source": [
    "heapq.heappushpop(arr, 22)"
   ]
  },
  {
   "cell_type": "code",
   "execution_count": 18,
   "id": "dc9ff286",
   "metadata": {},
   "outputs": [
    {
     "data": {
      "text/plain": [
       "[3, 4, 5, 6, 9, 22, 8, 7]"
      ]
     },
     "execution_count": 18,
     "metadata": {},
     "output_type": "execute_result"
    }
   ],
   "source": [
    "arr"
   ]
  },
  {
   "cell_type": "code",
   "execution_count": 22,
   "id": "6d96f726",
   "metadata": {},
   "outputs": [],
   "source": [
    "arr2 = heapq.nsmallest(3, arr)"
   ]
  },
  {
   "cell_type": "code",
   "execution_count": null,
   "id": "638028ec",
   "metadata": {},
   "outputs": [],
   "source": [
    "heapq.pop"
   ]
  },
  {
   "cell_type": "code",
   "execution_count": 25,
   "id": "b103ddab",
   "metadata": {},
   "outputs": [
    {
     "data": {
      "text/plain": [
       "8"
      ]
     },
     "execution_count": 25,
     "metadata": {},
     "output_type": "execute_result"
    }
   ],
   "source": [
    "arr3 = heapq.nlargest(3, arr)\n",
    "heapq.heapify(arr3)\n",
    "heapq.heappop(arr3)"
   ]
  },
  {
   "cell_type": "code",
   "execution_count": 21,
   "id": "fa75e431",
   "metadata": {},
   "outputs": [
    {
     "data": {
      "text/plain": [
       "[3, 4, 5, 6, 9, 22, 8, 7]"
      ]
     },
     "execution_count": 21,
     "metadata": {},
     "output_type": "execute_result"
    }
   ],
   "source": [
    "arr"
   ]
  },
  {
   "cell_type": "code",
   "execution_count": null,
   "id": "cb8f0402",
   "metadata": {},
   "outputs": [],
   "source": []
  }
 ],
 "metadata": {
  "kernelspec": {
   "display_name": "ml-venv",
   "language": "python",
   "name": "python3"
  },
  "language_info": {
   "codemirror_mode": {
    "name": "ipython",
    "version": 3
   },
   "file_extension": ".py",
   "mimetype": "text/x-python",
   "name": "python",
   "nbconvert_exporter": "python",
   "pygments_lexer": "ipython3",
   "version": "3.13.5"
  }
 },
 "nbformat": 4,
 "nbformat_minor": 5
}
