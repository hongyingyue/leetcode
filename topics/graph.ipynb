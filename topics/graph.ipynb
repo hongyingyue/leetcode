{
 "cells": [
  {
   "cell_type": "code",
   "execution_count": 3,
   "id": "4244be77",
   "metadata": {},
   "outputs": [
    {
     "data": {
      "text/plain": [
       "3"
      ]
     },
     "execution_count": 3,
     "metadata": {},
     "output_type": "execute_result"
    }
   ],
   "source": [
    "# find the root (or parent) of the node\n",
    "def find(x):\n",
    "    if p[x] != x:\n",
    "        p[x] = find(p[x])  # Path compression step\n",
    "    return p[x]\n",
    "\n",
    "p = [0, 0, 1, 3, 3]\n",
    "find(4)"
   ]
  },
  {
   "cell_type": "code",
   "execution_count": null,
   "id": "558b24b1",
   "metadata": {},
   "outputs": [],
   "source": []
  }
 ],
 "metadata": {
  "kernelspec": {
   "display_name": "ml-venv",
   "language": "python",
   "name": "python3"
  },
  "language_info": {
   "codemirror_mode": {
    "name": "ipython",
    "version": 3
   },
   "file_extension": ".py",
   "mimetype": "text/x-python",
   "name": "python",
   "nbconvert_exporter": "python",
   "pygments_lexer": "ipython3",
   "version": "3.13.5"
  }
 },
 "nbformat": 4,
 "nbformat_minor": 5
}
