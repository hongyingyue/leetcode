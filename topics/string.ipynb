{
 "cells": [
  {
   "cell_type": "markdown",
   "id": "c06890e6",
   "metadata": {},
   "source": [
    "## String sets"
   ]
  },
  {
   "cell_type": "markdown",
   "id": "0c3d5f2d",
   "metadata": {},
   "source": [
    "| Name                     | `string` Constant        | Description                              | Example Characters                                       |\n",
    "| ------------------------ | ------------------------ | ---------------------------------------- | -------------------------------------------------------- | \n",
    "| **Lowercase letters**    | `string.ascii_lowercase` | All lowercase letters (a–z)              | `'abcdefghijklmnopqrstuvwxyz'`                           |        \n",
    "| **Uppercase letters**    | `string.ascii_uppercase` | All uppercase letters (A–Z)              | `'ABCDEFGHIJKLMNOPQRSTUVWXYZ'`                           |\n",
    "| **All letters**          | `string.ascii_letters`   | Lowercase + uppercase letters            | `'abcdefghijklmnopqrstuvwxyzABCDEFGHIJKLMNOPQRSTUVWXYZ'` |\n",
    "| **Digits**               | `string.digits`          | All decimal digits (0–9)                 | `'0123456789'`                                           |\n",
    "| **Punctuation**          | `string.punctuation`     | All ASCII punctuation symbols            | '!\"#$%&\\'()*+,-./:;<=>?@[\\\\]^_`{\\|}~' |\n",
    "| **Whitespace**           | `string.whitespace`      | All whitespace characters                | ' \\t\\n\\r\\x0b\\x0c' |\n",
    "| **Printable characters** | `string.printable`       | Letters, digits, punctuation, whitespace | A combination of all the above                           |\n"
   ]
  },
  {
   "cell_type": "code",
   "execution_count": 1,
   "id": "b730509b",
   "metadata": {},
   "outputs": [
    {
     "name": "stdout",
     "output_type": "stream",
     "text": [
      "-- abcdefghijklmnopqrstuvwxyzABCDEFGHIJKLMNOPQRSTUVWXYZ\n",
      "-- abcdefghijklmnopqrstuvwxyz\n",
      "-- ABCDEFGHIJKLMNOPQRSTUVWXYZ\n",
      "-- 0123456789\n",
      "-- !\"#$%&'()*+,-./:;<=>?@[\\]^_`{|}~\n",
      "-- 0123456789abcdefghijklmnopqrstuvwxyzABCDEFGHIJKLMNOPQRSTUVWXYZ!\"#$%&'()*+,-./:;<=>?@[\\]^_`{|}~ \t\n",
      "\u000b\f\n",
      "--  \t\n",
      "\u000b\f\n"
     ]
    }
   ],
   "source": [
    "import string\n",
    "print('--',string.ascii_letters)  # 'abcdefghijklmnopqrstuvwxyzABCDEFGHIJKLMNOPQRSTUVWXYZ'\n",
    "\n",
    "print('--',string.ascii_lowercase)  # 'abcdefghijklmnopqrstuvwxyz'\n",
    "\n",
    "print('--',string.ascii_uppercase)  # 'ABCDEFGHIJKLMNOPQRSTUVWXYZ'\n",
    "\n",
    "print('--',string.digits)  # '0123456789'\n",
    "\n",
    "print('--',string.punctuation)  # '!\"#$%&\\'()*+,-./:;<=>?@[\\\\]^_`{|}~'\n",
    "\n",
    "print('--',string.printable)  # Includes digits, letters, punctuation, and whitespace\n",
    "\n",
    "print('--',string.whitespace)  # ' \\t\\n\\r\\x0b\\x0c'"
   ]
  },
  {
   "cell_type": "markdown",
   "id": "50c691ca",
   "metadata": {},
   "source": [
    "## Use cases"
   ]
  },
  {
   "cell_type": "markdown",
   "id": "c4d4b690",
   "metadata": {},
   "source": [
    "| Variable       | Definition                  | Description                               | Example Characters                                                        |\n",
    "| -------------- | --------------------------- | ----------------------------------------- | ------------------------------------------------------------------------- |\n",
    "| `digits`       | `set(string.digits)`        | All digit characters                      | `'0', '1', '2', ..., '9'`                                                 |\n",
    "| `letters`      | `set(string.ascii_letters)` | All ASCII letters (uppercase + lowercase) | `'a', 'b', ..., 'z', 'A', 'B', ..., 'Z'`                                  |\n",
    "| `alphanumeric` | ``digits \\| letters``       | All digits and letters combined           | `'0'–'9', 'a'–'z', 'A'–'Z'`                                              |\n",
    "| `vowels`       | `set(\"aeiouAEIOU\")`         | All vowels (uppercase + lowercase)        | `'a', 'e', 'i', 'o', 'u', 'A', 'E', 'I', 'O', 'U'`                        |\n",
    "| `consonants`   | `letters - vowels`          | All letters that are **not** vowels       | Letters except vowels, e.g. `'b', 'c', 'd', ..., 'z', 'B', 'C', ..., 'Z'` |\n"
   ]
  },
  {
   "cell_type": "code",
   "execution_count": 2,
   "id": "08b20c9c",
   "metadata": {},
   "outputs": [],
   "source": [
    "digits = set(string.digits)                # '0' to '9'\n",
    "letters = set(string.ascii_letters)        # A-Z and a-z\n",
    "alphanumeric = digits | letters\n",
    "vowels = set(\"aeiouAEIOU\")                 # Both uppercase and lowercase\n",
    "consonants = letters - vowels              # All letters that aren't vowels"
   ]
  },
  {
   "cell_type": "markdown",
   "id": "f80a1075",
   "metadata": {},
   "source": [
    "### ✅ set(word) - alphanumeric\n",
    "Use case:\n",
    "Check for invalid characters (punctuation, emojis, symbols)."
   ]
  },
  {
   "cell_type": "code",
   "execution_count": 3,
   "id": "7b81e322",
   "metadata": {},
   "outputs": [
    {
     "name": "stdout",
     "output_type": "stream",
     "text": [
      "Contains symbols or punctuation: {'$'}\n"
     ]
    }
   ],
   "source": [
    "word = 'a3$e'\n",
    "invalid_chars = set(word) - alphanumeric\n",
    "if invalid_chars:\n",
    "    print(\"Contains symbols or punctuation:\", invalid_chars)"
   ]
  },
  {
   "cell_type": "markdown",
   "id": "f333e109",
   "metadata": {},
   "source": [
    "### ✅ set(word) & vowels / set(word) & consonants\n",
    "Use case:\n",
    "Check if the word contains at least one vowel/consonant."
   ]
  },
  {
   "cell_type": "code",
   "execution_count": 4,
   "id": "011667f6",
   "metadata": {},
   "outputs": [
    {
     "name": "stdout",
     "output_type": "stream",
     "text": [
      "No consonants found\n"
     ]
    }
   ],
   "source": [
    "if not (set(word) & vowels):\n",
    "    print(\"No vowels found\")\n",
    "    \n",
    "if not (set(word) & consonants):\n",
    "    print(\"No consonants found\")"
   ]
  }
 ],
 "metadata": {
  "kernelspec": {
   "display_name": "ml-venv",
   "language": "python",
   "name": "python3"
  },
  "language_info": {
   "codemirror_mode": {
    "name": "ipython",
    "version": 3
   },
   "file_extension": ".py",
   "mimetype": "text/x-python",
   "name": "python",
   "nbconvert_exporter": "python",
   "pygments_lexer": "ipython3",
   "version": "3.13.5"
  }
 },
 "nbformat": 4,
 "nbformat_minor": 5
}
