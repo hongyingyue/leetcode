{
 "cells": [
  {
   "cell_type": "code",
   "execution_count": 4,
   "id": "3e3e7dbd",
   "metadata": {},
   "outputs": [
    {
     "name": "stdout",
     "output_type": "stream",
     "text": [
      "index 0: 1\n",
      "index 1: 3\n",
      "index 2: 3\n",
      "index 3: 3\n",
      "index 4: 5\n",
      "index 5: 7\n",
      "index 6: 9\n",
      "index 7: 11\n",
      "index 8: 13\n"
     ]
    }
   ],
   "source": [
    "nums = [1, 3, 3, 3, 5, 7, 9, 11, 13]\n",
    "\n",
    "for i, num in enumerate(nums):\n",
    "    print(f'index {i}: {num}')"
   ]
  },
  {
   "cell_type": "markdown",
   "id": "451a8856",
   "metadata": {},
   "source": [
    "## Binary Search Template (Closed Interval)"
   ]
  },
  {
   "cell_type": "code",
   "execution_count": 14,
   "id": "44e218aa",
   "metadata": {},
   "outputs": [
    {
     "data": {
      "text/plain": [
       "7"
      ]
     },
     "execution_count": 14,
     "metadata": {},
     "output_type": "execute_result"
    }
   ],
   "source": [
    "# find the index of a value in an ordered list\n",
    "def binary_search(nums, target):\n",
    "    left, right = 0, len(nums) - 1  # closed interval [left, right]\n",
    "\n",
    "    while left <= right:\n",
    "        mid = left + (right - left) // 2\n",
    "\n",
    "        if nums[mid] == target:\n",
    "            return mid  # 🎯 Equal to target\n",
    "        elif nums[mid] < target:\n",
    "            left = mid + 1  # 🔍 Search right half\n",
    "        else:\n",
    "            right = mid - 1  # 🔍 Search left half\n",
    "\n",
    "    return -1  # ❌ Not found\n",
    "\n",
    "binary_search(nums, 11)\n",
    "# nums = [1, 3, 3, 3, 5, 7, 9, 11, 13]"
   ]
  },
  {
   "cell_type": "markdown",
   "id": "9e7ca24e",
   "metadata": {},
   "source": [
    "## Find the first element ≥ target (lower bound)"
   ]
  },
  {
   "cell_type": "code",
   "execution_count": 15,
   "id": "14a34e9c",
   "metadata": {},
   "outputs": [
    {
     "data": {
      "text/plain": [
       "1"
      ]
     },
     "execution_count": 15,
     "metadata": {},
     "output_type": "execute_result"
    }
   ],
   "source": [
    "def lower_bound(nums, target):\n",
    "    left, right = 0, len(nums) - 1\n",
    "    ans = len(nums)  # Default to out of range\n",
    "\n",
    "    while left <= right:\n",
    "        mid = left + (right - left) // 2\n",
    "        if nums[mid] >= target:\n",
    "            ans = mid       # Possible candidate\n",
    "            right = mid - 1 # Try to go left\n",
    "        else:\n",
    "            left = mid + 1\n",
    "\n",
    "    return ans  # Index of first number ≥ target\n",
    "\n",
    "\n",
    "lower_bound(nums, 3)\n",
    "# nums = [1, 3, 3, 3, 5, 7, 9, 11, 13]"
   ]
  },
  {
   "cell_type": "markdown",
   "id": "c55ce294",
   "metadata": {},
   "source": [
    "## Find the first element > target (upper bound)"
   ]
  },
  {
   "cell_type": "code",
   "execution_count": 10,
   "id": "1c36e1fc",
   "metadata": {},
   "outputs": [
    {
     "data": {
      "text/plain": [
       "4"
      ]
     },
     "execution_count": 10,
     "metadata": {},
     "output_type": "execute_result"
    }
   ],
   "source": [
    "def upper_bound(nums, target):\n",
    "    left, right = 0, len(nums) - 1\n",
    "    ans = len(nums)\n",
    "\n",
    "    while left <= right:\n",
    "        mid = left + (right - left) // 2\n",
    "        if nums[mid] > target:\n",
    "            ans = mid\n",
    "            right = mid - 1\n",
    "        else:\n",
    "            left = mid + 1\n",
    "\n",
    "    return ans  # Index of first number > target\n",
    "\n",
    "\n",
    "upper_bound(nums, 3)\n",
    "# nums = [1, 3, 3, 3, 5, 7, 9, 11, 13]"
   ]
  },
  {
   "cell_type": "markdown",
   "id": "5aaa34fd",
   "metadata": {},
   "source": [
    "## Find the last element < target\n"
   ]
  },
  {
   "cell_type": "code",
   "execution_count": 11,
   "id": "9e185e46",
   "metadata": {},
   "outputs": [
    {
     "data": {
      "text/plain": [
       "0"
      ]
     },
     "execution_count": 11,
     "metadata": {},
     "output_type": "execute_result"
    }
   ],
   "source": [
    "def last_less_than(nums, target):\n",
    "    left, right = 0, len(nums) - 1\n",
    "    ans = -1\n",
    "\n",
    "    while left <= right:\n",
    "        mid = left + (right - left) // 2\n",
    "        if nums[mid] < target:\n",
    "            ans = mid\n",
    "            left = mid + 1\n",
    "        else:\n",
    "            right = mid - 1\n",
    "\n",
    "    return ans\n",
    "\n",
    "\n",
    "last_less_than(nums, 3)\n",
    "# nums = [1, 3, 3, 3, 5, 7, 9, 11, 13]"
   ]
  },
  {
   "cell_type": "markdown",
   "id": "bd0cb1e0",
   "metadata": {},
   "source": [
    "## Find the last element ≤ target"
   ]
  },
  {
   "cell_type": "code",
   "execution_count": 12,
   "id": "d214a3e6",
   "metadata": {},
   "outputs": [
    {
     "data": {
      "text/plain": [
       "3"
      ]
     },
     "execution_count": 12,
     "metadata": {},
     "output_type": "execute_result"
    }
   ],
   "source": [
    "def last_leq(nums, target):\n",
    "    left, right = 0, len(nums) - 1\n",
    "    ans = -1  # Default to not found\n",
    "\n",
    "    while left <= right:\n",
    "        mid = left + (right - left) // 2\n",
    "        if nums[mid] <= target:\n",
    "            ans = mid        # Valid candidate\n",
    "            left = mid + 1   # Try to go right\n",
    "        else:\n",
    "            right = mid - 1\n",
    "\n",
    "    return ans\n",
    "\n",
    "\n",
    "last_leq(nums, 3)\n",
    "# nums = [1, 3, 3, 3, 5, 7, 9, 11, 13]"
   ]
  },
  {
   "cell_type": "code",
   "execution_count": null,
   "id": "186f7926",
   "metadata": {},
   "outputs": [],
   "source": []
  }
 ],
 "metadata": {
  "kernelspec": {
   "display_name": "ml-venv",
   "language": "python",
   "name": "python3"
  },
  "language_info": {
   "codemirror_mode": {
    "name": "ipython",
    "version": 3
   },
   "file_extension": ".py",
   "mimetype": "text/x-python",
   "name": "python",
   "nbconvert_exporter": "python",
   "pygments_lexer": "ipython3",
   "version": "3.13.5"
  }
 },
 "nbformat": 4,
 "nbformat_minor": 5
}
