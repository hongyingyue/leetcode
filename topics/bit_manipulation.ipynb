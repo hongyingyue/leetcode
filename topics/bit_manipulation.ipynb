{
 "cells": [
  {
   "cell_type": "markdown",
   "id": "fa5af9a4",
   "metadata": {},
   "source": [
    "# Questions"
   ]
  },
  {
   "cell_type": "markdown",
   "id": "51b04369",
   "metadata": {},
   "source": [
    "- 190. Reverse Bits\n",
    "- 191. Number of 1 Bits\n",
    "- 268. Missing Number\n",
    "- 338. Counting Bits\n",
    "- 371. Sum of Two Integers"
   ]
  },
  {
   "cell_type": "markdown",
   "id": "6843ca5d",
   "metadata": {},
   "source": [
    "# Skills"
   ]
  },
  {
   "cell_type": "markdown",
   "id": "5991f99f",
   "metadata": {},
   "source": [
    "## Bitwise Shift Operators\n",
    "- n >> i: shifts the bits of a number to the **right** by a specified number of positions.\n",
    "- n << i: shifts the bits of a number to the **left** by a specified number of positions."
   ]
  },
  {
   "cell_type": "code",
   "execution_count": 7,
   "id": "936f5247",
   "metadata": {},
   "outputs": [
    {
     "name": "stdout",
     "output_type": "stream",
     "text": [
      "0b1011 0b101\n"
     ]
    },
    {
     "data": {
      "text/plain": [
       "5"
      ]
     },
     "execution_count": 7,
     "metadata": {},
     "output_type": "execute_result"
    }
   ],
   "source": [
    "print(bin(11), bin(5))\n",
    "11 >> 1"
   ]
  },
  {
   "cell_type": "code",
   "execution_count": 8,
   "id": "3089e0e0",
   "metadata": {},
   "outputs": [
    {
     "name": "stdout",
     "output_type": "stream",
     "text": [
      "0b1011 0b10110\n"
     ]
    },
    {
     "data": {
      "text/plain": [
       "22"
      ]
     },
     "execution_count": 8,
     "metadata": {},
     "output_type": "execute_result"
    }
   ],
   "source": [
    "print(bin(11), bin(22))\n",
    "11 << 1"
   ]
  },
  {
   "cell_type": "code",
   "execution_count": 9,
   "id": "e0b17918",
   "metadata": {},
   "outputs": [
    {
     "data": {
      "text/plain": [
       "str"
      ]
     },
     "execution_count": 9,
     "metadata": {},
     "output_type": "execute_result"
    }
   ],
   "source": [
    "type(bin(11))"
   ]
  },
  {
   "cell_type": "markdown",
   "id": "61e69e0e",
   "metadata": {},
   "source": [
    "## Bitwise AND Operation (&)\n",
    "compares two numbers bit by bit and returns a new number where each bit is:\n",
    "- 1 only if both corresponding bits are 1\n",
    "- Otherwise, the result is 0"
   ]
  },
  {
   "cell_type": "markdown",
   "id": "e84b7e66",
   "metadata": {},
   "source": [
    "### i & 1 \n",
    "is a bitwise AND operation that checks whether the least significant bit (LSB) of i is 1.\n",
    "- If i is odd, its binary ends in 1, so i & 1 returns 1.\n",
    "- If i is even, its binary ends in 0, so i & 1 returns 0.\n",
    "\n",
    "| Operation | Type       | Result for Odd `i` | Result for Even `i` | Works with Floats?  | Speed  |\n",
    "| --------- | ---------- | ------------------ | ------------------- | ------------------- | ------ |\n",
    "| `i & 1`   | Bitwise    | `1`                | `0`                 | ❌ (integers only)   | Fast   |\n",
    "| `i % 2`   | Arithmetic | `1`                | `0`                 | ✅ (e.g., `5.0 % 2`) | Slower |\n"
   ]
  },
  {
   "cell_type": "markdown",
   "id": "c079e920",
   "metadata": {},
   "source": [
    "### Brian Kernighan’s Algorithm \n",
    "works to count the number of 1 bits (set bits) in a binary number by removing the rightmost 1 bit in each iteration until the number becomes 0."
   ]
  },
  {
   "cell_type": "markdown",
   "id": "5f0c55e6",
   "metadata": {},
   "source": [
    "```\n",
    "n & (n - 1) = 0b101100\n",
    "            & 0b101011\n",
    "            = 0b101000\n",
    "```\n",
    "\n",
    "This operation turns off the rightmost 1 bit."
   ]
  },
  {
   "cell_type": "code",
   "execution_count": 17,
   "id": "35907339",
   "metadata": {},
   "outputs": [
    {
     "data": {
      "text/plain": [
       "1"
      ]
     },
     "execution_count": 17,
     "metadata": {},
     "output_type": "execute_result"
    }
   ],
   "source": [
    "def count_ones(n):\n",
    "    count = 0\n",
    "    while n:\n",
    "        n = n & (n - 1)  # Remove the lowest set bit\n",
    "        count += 1\n",
    "    return count\n",
    "\n",
    "count_ones(128)"
   ]
  },
  {
   "cell_type": "markdown",
   "id": "a0156fdc",
   "metadata": {},
   "source": [
    "## Bitwise OR Operation (|)\n",
    "compares two integers bit by bit, and sets each bit of the result to:\n",
    "- 1 if either of the corresponding bits is 1\n",
    "- 0 only if both bits are 0"
   ]
  },
  {
   "cell_type": "markdown",
   "id": "d750514d",
   "metadata": {},
   "source": [
    "### Setting bits\n",
    "turn on a specific bit using OR.\n",
    "    \n",
    "Example: `x | (1 << k)` sets the k-th bit to 1."
   ]
  },
  {
   "cell_type": "code",
   "execution_count": 24,
   "id": "61f80f27",
   "metadata": {},
   "outputs": [
    {
     "name": "stdout",
     "output_type": "stream",
     "text": [
      "0b1101\n",
      "0b1111\n"
     ]
    },
    {
     "data": {
      "text/plain": [
       "15"
      ]
     },
     "execution_count": 24,
     "metadata": {},
     "output_type": "execute_result"
    }
   ],
   "source": [
    "x = 13\n",
    "print(bin(x))\n",
    "\n",
    "k = 1\n",
    "print(bin(x | (1 << k)))\n",
    "x | (1 << k)"
   ]
  },
  {
   "cell_type": "markdown",
   "id": "197e444e",
   "metadata": {},
   "source": [
    "### Combining flags\n",
    "combine multiple binary conditions."
   ]
  },
  {
   "cell_type": "code",
   "execution_count": 26,
   "id": "1c41b0c5",
   "metadata": {},
   "outputs": [
    {
     "name": "stdout",
     "output_type": "stream",
     "text": [
      "0 0b0\n",
      "1 0b1\n"
     ]
    }
   ],
   "source": [
    "result = 0\n",
    "print(result, bin(result))\n",
    "n = 7\n",
    "bit = n & 1                   # Extract the least significant bit\n",
    "result = (result << 1) | bit  # Append the bit to the result\n",
    "print(result, bin(result))"
   ]
  },
  {
   "cell_type": "code",
   "execution_count": 32,
   "id": "8c4ff6ba",
   "metadata": {},
   "outputs": [
    {
     "name": "stdout",
     "output_type": "stream",
     "text": [
      "n: 111 7\n",
      "r: 0 0\n",
      "- r: 1\n",
      "n: 11 3\n",
      "r: 1 1\n",
      "- r: 11\n",
      "n: 1 1\n",
      "r: 11 3\n",
      "- r: 111\n",
      "n: 0 0\n",
      "r: 111 7\n",
      "- r: 1110\n",
      "n: 0 0\n",
      "r: 1110 14\n",
      "- r: 11100\n"
     ]
    }
   ],
   "source": [
    "n = 7\n",
    "r = 0\n",
    "for _ in range(5):\n",
    "    print('n:',bin(n)[2:], n)\n",
    "    print('r:', bin(r)[2:], r)\n",
    "    bit = n & 1\n",
    "    r = (r << 1) | bit\n",
    "    print('- r:', bin(r)[2:])\n",
    "    n >>= 1\n"
   ]
  },
  {
   "cell_type": "markdown",
   "id": "268784af",
   "metadata": {},
   "source": [
    "## Bitwise XOR Operation (^)\n",
    "compares two integers bit by bit and sets each bit of the result to:\n",
    "- 1 if the bits are different\n",
    "- 0 if the bits are the same"
   ]
  },
  {
   "cell_type": "markdown",
   "id": "7f86e32f",
   "metadata": {},
   "source": [
    "### Bit flipping\n",
    "\n",
    "`x ^ 1` flips the least significant bit\n",
    "\n",
    "`x ^ x = 0` cancels itself\n",
    "\n",
    "`x ^ 0 = x`"
   ]
  },
  {
   "cell_type": "code",
   "execution_count": 41,
   "id": "0c43612b",
   "metadata": {},
   "outputs": [
    {
     "name": "stdout",
     "output_type": "stream",
     "text": [
      "7 5\n"
     ]
    }
   ],
   "source": [
    "# Swapping two numbers without a temporary variable\n",
    "a = 5\n",
    "b = 7\n",
    "a = a ^ b\n",
    "b = a ^ b\n",
    "a = a ^ b\n",
    "print(a, b)"
   ]
  },
  {
   "cell_type": "code",
   "execution_count": 42,
   "id": "7b7ed064",
   "metadata": {},
   "outputs": [
    {
     "name": "stdout",
     "output_type": "stream",
     "text": [
      "4\n"
     ]
    }
   ],
   "source": [
    "# Finding the unique number in a list where every number appears twice except one\n",
    "nums = [2, 3, 2, 4, 3]\n",
    "result = 0\n",
    "for n in nums:\n",
    "    result ^= n\n",
    "print(result)"
   ]
  }
 ],
 "metadata": {
  "kernelspec": {
   "display_name": "ml-venv",
   "language": "python",
   "name": "python3"
  },
  "language_info": {
   "codemirror_mode": {
    "name": "ipython",
    "version": 3
   },
   "file_extension": ".py",
   "mimetype": "text/x-python",
   "name": "python",
   "nbconvert_exporter": "python",
   "pygments_lexer": "ipython3",
   "version": "3.13.5"
  }
 },
 "nbformat": 4,
 "nbformat_minor": 5
}
