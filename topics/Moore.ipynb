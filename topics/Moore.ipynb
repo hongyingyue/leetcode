{
 "cells": [
  {
   "cell_type": "markdown",
   "id": "8865b2de",
   "metadata": {},
   "source": [
    "# Moore 投票算法 (Boyer-Moore 投票算法)\n",
    "\n",
    "## ✅ 适用场景\n",
    "Moore 投票算法是用来在一个数组中找出“多数元素”的高效算法。\n",
    "所谓“多数元素”是指在一个长度为 n 的数组中，出现次数 超过 n/2 次 的那个元素。\n",
    "\n",
    "## 🧠 核心思想\n",
    "这个算法的核心思想是：\n",
    "\n",
    "“把不同的元素两两抵消，最后剩下的那个元素（如果存在）就是多数元素。”\n",
    "\n",
    "因为多数元素的数量超过了其他所有元素的总和，它在抵消过程中不会被完全消除。\n",
    "\n",
    "## 📋 算法步骤\n",
    "- 第一步：找候选人（candidate）\n",
    "    \n",
    "    从头到尾遍历数组，维护两个变量：\n",
    "\n",
    "    - candidate：当前认为的候选多数元素；\n",
    "\n",
    "    - count：候选元素的“票数”。\n",
    "\n",
    "    具体规则是：\n",
    "\n",
    "    - 如果 count == 0，就把当前元素设为候选人；\n",
    "\n",
    "    - 如果当前元素等于候选人，count += 1；\n",
    "\n",
    "    - 如果当前元素不等于候选人，count -= 1。\n",
    "\n",
    "- 第二步：验证候选人（可选）\n",
    "    \n",
    "    遍历一遍数组，统计候选人出现的次数，如果大于 n/2，就说明它真的是多数元素；否则就不是。\n",
    "\n",
    "### 总结原理要点\n",
    "| 原理点        | 说明                                  |\n",
    "| ---------- | ----------------------------------- |\n",
    "| 抵消法        | 不同元素互相抵消，只有可能是多数元素才能最后“幸存”          |\n",
    "| 候选人票数归零就换人 | 说明目前没有足够优势，换一个新的元素试试看               |\n",
    "| 只存一个候选人    | 因为题目保证**最多只能有一个多数元素**（超过 n/2 的只有一个） |\n",
    "| 验证步骤必要     | 如果没有保证多数元素存在，最终还需确认是否真的超过一半         |\n"
   ]
  },
  {
   "cell_type": "markdown",
   "id": "9e66815a",
   "metadata": {},
   "source": [
    "## 🧑‍💻 Python 示例代码"
   ]
  },
  {
   "cell_type": "code",
   "execution_count": 1,
   "id": "f043afcf",
   "metadata": {},
   "outputs": [
    {
     "data": {
      "text/plain": [
       "2"
      ]
     },
     "execution_count": 1,
     "metadata": {},
     "output_type": "execute_result"
    }
   ],
   "source": [
    "def majorityElement(nums):\n",
    "    candidate = None\n",
    "    count = 0\n",
    "\n",
    "    for num in nums:\n",
    "        if count == 0:\n",
    "            candidate = num\n",
    "        count += 1 if num == candidate else -1\n",
    "\n",
    "    # 验证是否真的是多数元素\n",
    "    if nums.count(candidate) > len(nums) // 2:\n",
    "        return candidate\n",
    "    else:\n",
    "        return None\n",
    "\n",
    "# 🧪 示例\n",
    "nums = [2, 2, 1, 1, 1, 2, 2]\n",
    "majorityElement(nums)  # 输出：2"
   ]
  },
  {
   "cell_type": "markdown",
   "id": "92a44436",
   "metadata": {},
   "source": [
    "## 📌 注意事项\n",
    "如果数组中根本没有多数元素，算法也会返回一个“候选人”，所以一定要加验证步骤，除非你可以确定一定有多数元素。\n",
    "\n",
    "## 🧱 时间与空间复杂度\n",
    "- 时间复杂度：O(n)\n",
    "\n",
    "- 空间复杂度：O(1)"
   ]
  },
  {
   "cell_type": "markdown",
   "id": "79244fb1",
   "metadata": {},
   "source": []
  }
 ],
 "metadata": {
  "kernelspec": {
   "display_name": "ml-venv",
   "language": "python",
   "name": "python3"
  },
  "language_info": {
   "codemirror_mode": {
    "name": "ipython",
    "version": 3
   },
   "file_extension": ".py",
   "mimetype": "text/x-python",
   "name": "python",
   "nbconvert_exporter": "python",
   "pygments_lexer": "ipython3",
   "version": "3.13.5"
  }
 },
 "nbformat": 4,
 "nbformat_minor": 5
}
