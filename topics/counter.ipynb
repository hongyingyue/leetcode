{
 "cells": [
  {
   "cell_type": "code",
   "execution_count": 4,
   "id": "bf1d44bb",
   "metadata": {},
   "outputs": [
    {
     "name": "stdout",
     "output_type": "stream",
     "text": [
      "Counter({'t': 3, 'h': 2, 'e': 1, 'a': 1, 'y': 1})\n"
     ]
    }
   ],
   "source": [
    "from collections import Counter\n",
    "\n",
    "target = 'thehatty'\n",
    "tCtr = Counter(target)\n",
    "print(tCtr)"
   ]
  },
  {
   "cell_type": "code",
   "execution_count": 3,
   "id": "a9d8a49d",
   "metadata": {},
   "outputs": [
    {
     "data": {
      "text/plain": [
       "'e'"
      ]
     },
     "execution_count": 3,
     "metadata": {},
     "output_type": "execute_result"
    }
   ],
   "source": [
    "# get the least frequent letter\n",
    "mn = min(tuple(tCtr), key= lambda x: tCtr[x])\n",
    "mn"
   ]
  },
  {
   "cell_type": "code",
   "execution_count": 6,
   "id": "120da797",
   "metadata": {},
   "outputs": [
    {
     "name": "stdout",
     "output_type": "stream",
     "text": [
      "Counter 1: Counter({'t': 3, 'h': 2, 'e': 1, 'a': 1, 'y': 1})\n",
      "Counter 2: Counter({'w': 1, 'i': 1, 't': 1, 'h': 1})\n",
      "Counter({'t': 2, 'h': 1, 'e': 1, 'a': 1, 'y': 1})\n"
     ]
    }
   ],
   "source": [
    "# Counter minus\n",
    "sCtr = Counter('with')\n",
    "print('Counter 1:', tCtr)\n",
    "print('Counter 2:', sCtr)\n",
    "print(tCtr-sCtr)"
   ]
  },
  {
   "cell_type": "code",
   "execution_count": 7,
   "id": "91603b2b",
   "metadata": {},
   "outputs": [
    {
     "name": "stdout",
     "output_type": "stream",
     "text": [
      "t\n",
      "t\n",
      "t\n",
      "h\n",
      "h\n",
      "e\n",
      "a\n",
      "y\n"
     ]
    }
   ],
   "source": [
    "# Counter.elements\n",
    "for i in tCtr.elements():\n",
    "    print(i)"
   ]
  },
  {
   "cell_type": "code",
   "execution_count": 9,
   "id": "83112811",
   "metadata": {},
   "outputs": [
    {
     "name": "stdout",
     "output_type": "stream",
     "text": [
      "theay\n",
      "ttheay\n"
     ]
    }
   ],
   "source": [
    "# e.g.\n",
    "print(''.join(tCtr-sCtr))\n",
    "print(''.join((tCtr-sCtr).elements()))"
   ]
  }
 ],
 "metadata": {
  "kernelspec": {
   "display_name": "ml-venv",
   "language": "python",
   "name": "python3"
  },
  "language_info": {
   "codemirror_mode": {
    "name": "ipython",
    "version": 3
   },
   "file_extension": ".py",
   "mimetype": "text/x-python",
   "name": "python",
   "nbconvert_exporter": "python",
   "pygments_lexer": "ipython3",
   "version": "3.13.5"
  }
 },
 "nbformat": 4,
 "nbformat_minor": 5
}
