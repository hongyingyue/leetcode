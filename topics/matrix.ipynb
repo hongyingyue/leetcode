{
 "cells": [
  {
   "cell_type": "markdown",
   "id": "eb2e787b",
   "metadata": {},
   "source": [
    "# Questions"
   ]
  },
  {
   "cell_type": "markdown",
   "id": "01660d53",
   "metadata": {},
   "source": [
    "- 48. Rotate Image"
   ]
  },
  {
   "cell_type": "markdown",
   "id": "0f65b50d",
   "metadata": {},
   "source": [
    "# Skills"
   ]
  },
  {
   "cell_type": "markdown",
   "id": "70944ce6",
   "metadata": {},
   "source": [
    "| **Operation**                    | **Transformation**                                                 |\n",
    "| -------------------------------- | ------------------------------------------------------------------ |\n",
    "| Transpose                    | Swap rows and columns $M[i][j] \\rightarrow M[j][i]$                |\n",
    "| Rotate 90° clockwise         | Transpose → reverse **columns** **OR** Reverse rows → transpose       |\n",
    "| Rotate 90° counter-clockwise | Transpose → reverse **rows** **OR** Reverse columns → transpose |\n",
    "| Rotate 180°                  | Reverse rows and columns, any order is fine                       |\n",
    "| Flip horizontally            | Reverse all columns                                               |\n",
    "| Flip vertically              | Reverse all rows                                                   |\n",
    "| Mirror along main diagonal   | Transpose                                                          |\n",
    "| Mirror along anti-diagonal   | Transpose → Rotate 180°                                        |"
   ]
  },
  {
   "cell_type": "markdown",
   "id": "d55bcc98",
   "metadata": {},
   "source": [
    "## Transpose\n",
    "swaps the rows and columns. \n",
    "\n",
    "In simpler terms, swap matrix[i][j] with matrix[j][i] for every valid pair of indices above the diagonal."
   ]
  },
  {
   "cell_type": "code",
   "execution_count": 12,
   "id": "9a0d7088",
   "metadata": {},
   "outputs": [
    {
     "name": "stdout",
     "output_type": "stream",
     "text": [
      "-- Raw matrix:\n",
      "[1, 2, 3]\n",
      "[4, 5, 6]\n",
      "[7, 8, 9]\n",
      "-- After transpose:\n",
      "[1, 4, 7]\n",
      "[2, 5, 8]\n",
      "[3, 6, 9]\n"
     ]
    }
   ],
   "source": [
    "matrix = [[1,2,3],[4,5,6],[7,8,9]]\n",
    "\n",
    "print('-- Raw matrix:')\n",
    "for row in matrix:\n",
    "    print(row)\n",
    "\n",
    "# Transpose    \n",
    "edge_length = len(matrix)\n",
    "\n",
    "for row in range(edge_length):\n",
    "    for col in range(row+1, edge_length):\n",
    "        temp = matrix[row][col] # use temp to hold the column\n",
    "        matrix[row][col] = matrix[col][row]\n",
    "        matrix[col][row] = temp\n",
    "\n",
    "print('-- After transpose:')    \n",
    "for row in matrix:\n",
    "    print(row)"
   ]
  },
  {
   "cell_type": "markdown",
   "id": "509d159f",
   "metadata": {},
   "source": [
    "## Flip horizontally\n",
    "flip the matrix from left to right.\n",
    "\n",
    "For every row, the leftmost element swaps with the rightmost element, the second leftmost swaps with the second rightmost, and so on."
   ]
  },
  {
   "cell_type": "code",
   "execution_count": 15,
   "id": "3ec29716",
   "metadata": {},
   "outputs": [
    {
     "name": "stdout",
     "output_type": "stream",
     "text": [
      "-- Raw matrix:\n",
      "[1, 2, 3]\n",
      "[4, 5, 6]\n",
      "[7, 8, 9]\n",
      "-- After horizontal flip:\n",
      "[3, 2, 1]\n",
      "[6, 5, 4]\n",
      "[9, 8, 7]\n"
     ]
    }
   ],
   "source": [
    "matrix = [[1,2,3],[4,5,6],[7,8,9]]\n",
    "\n",
    "print('-- Raw matrix:')\n",
    "for row in matrix:\n",
    "    print(row)\n",
    "\n",
    "# Flip horizontally   \n",
    "edge_length = len(matrix)\n",
    "left = 0\n",
    "right = edge_length - 1\n",
    "\n",
    "while left < right:\n",
    "    for row in range(edge_length):\n",
    "        temp = matrix[row][left] # use temp to hold the row\n",
    "        matrix[row][left] = matrix[row][right]\n",
    "        matrix[row][right] = temp\n",
    "    left += 1\n",
    "    right -= 1\n",
    "\n",
    "print('-- After horizontal flip:')    \n",
    "for row in matrix:\n",
    "    print(row)"
   ]
  },
  {
   "cell_type": "markdown",
   "id": "fb56eb45",
   "metadata": {},
   "source": [
    "## Flip vertically\n",
    "flip the matrix upside down. \n",
    "\n",
    "For every column, the topmost element swaps with the bottommost element, the second topmost swaps with the second bottommost, and so on."
   ]
  },
  {
   "cell_type": "code",
   "execution_count": 13,
   "id": "5f6d7de2",
   "metadata": {},
   "outputs": [
    {
     "name": "stdout",
     "output_type": "stream",
     "text": [
      "-- Raw matrix:\n",
      "[1, 2, 3]\n",
      "[4, 5, 6]\n",
      "[7, 8, 9]\n",
      "-- After vertical flip:\n",
      "[7, 8, 9]\n",
      "[4, 5, 6]\n",
      "[1, 2, 3]\n"
     ]
    }
   ],
   "source": [
    "matrix = [[1,2,3],[4,5,6],[7,8,9]]\n",
    "\n",
    "print('-- Raw matrix:')\n",
    "for row in matrix:\n",
    "    print(row)\n",
    "\n",
    "# Flip vertically    \n",
    "edge_length = len(matrix)\n",
    "top = 0\n",
    "bottom = edge_length - 1\n",
    "\n",
    "while top < bottom:\n",
    "    for col in range(edge_length):\n",
    "        temp = matrix[top][col] # use temp to hold the row\n",
    "        matrix[top][col] = matrix[bottom][col]\n",
    "        matrix[bottom][col] = temp\n",
    "    top += 1\n",
    "    bottom -= 1\n",
    "\n",
    "print('-- After vertical flip:')    \n",
    "for row in matrix:\n",
    "    print(row)"
   ]
  }
 ],
 "metadata": {
  "kernelspec": {
   "display_name": "ml-venv",
   "language": "python",
   "name": "python3"
  },
  "language_info": {
   "codemirror_mode": {
    "name": "ipython",
    "version": 3
   },
   "file_extension": ".py",
   "mimetype": "text/x-python",
   "name": "python",
   "nbconvert_exporter": "python",
   "pygments_lexer": "ipython3",
   "version": "3.13.5"
  }
 },
 "nbformat": 4,
 "nbformat_minor": 5
}
