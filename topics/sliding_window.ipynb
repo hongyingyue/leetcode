{
 "cells": [
  {
   "cell_type": "markdown",
   "id": "5314bd25",
   "metadata": {},
   "source": [
    "## 🎯 核心思想解释\n",
    "\n",
    "| 步骤             | 意义                           |\n",
    "| -------------- | ---------------------------- |\n",
    "| `right` 向右扩张窗口 | 加入新字符/元素                     |\n",
    "| `while` 中的条件   | 判断当前窗口是否合法（满足题目条件）           |\n",
    "| `left += 1`    | 收缩左边界，直到窗口再次合法               |\n",
    "| 更新答案           | 如果是找最长/最短/最大/最小值，则在合法窗口内更新结果 |\n"
   ]
  },
  {
   "cell_type": "code",
   "execution_count": null,
   "id": "b1b498f2",
   "metadata": {},
   "outputs": [],
   "source": [
    "def sliding_window(s):\n",
    "    left = 0\n",
    "    counter = defaultdict(int)  # or just a dict/set based on problem\n",
    "    best = 0  # or float('inf') depending on goal\n",
    "\n",
    "    for right in range(len(s)):\n",
    "        # 1. Expand the window by including s[right]\n",
    "        counter[s[right]] += 1\n",
    "\n",
    "        # 2. While window is invalid, shrink from the left\n",
    "        while <window is invalid>:\n",
    "            counter[s[left]] -= 1\n",
    "            left += 1\n",
    "\n",
    "        # 3. Update result if needed\n",
    "        best = max(best, right - left + 1)  # or min(...)\n",
    "\n",
    "    return best"
   ]
  }
 ],
 "metadata": {
  "language_info": {
   "name": "python"
  }
 },
 "nbformat": 4,
 "nbformat_minor": 5
}
